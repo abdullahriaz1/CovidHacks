{
  "nbformat": 4,
  "nbformat_minor": 0,
  "metadata": {
    "colab": {
      "name": "Events_Summary.ipynb",
      "provenance": [],
      "collapsed_sections": []
    },
    "kernelspec": {
      "name": "python3",
      "display_name": "Python 3"
    },
    "language_info": {
      "name": "python"
    }
  },
  "cells": [
    {
      "cell_type": "code",
      "execution_count": null,
      "metadata": {
        "colab": {
          "base_uri": "https://localhost:8080/"
        },
        "id": "xtoSoLeUVeo4",
        "outputId": "dc8f9db4-0d51-4f6f-c01d-d97de3a0b4a8"
      },
      "outputs": [
        {
          "output_type": "stream",
          "name": "stderr",
          "text": [
            "ERROR:root:File `'API_Handler.ipynb.py'` not found.\n"
          ]
        }
      ],
      "source": [
        "%run 'API_Handler'.ipynb"
      ]
    },
    {
      "cell_type": "code",
      "source": [
        "import numpy as np\n",
        "import matplotlib.pyplot as plt"
      ],
      "metadata": {
        "id": "_Nihy-DDXn65"
      },
      "execution_count": null,
      "outputs": []
    },
    {
      "cell_type": "code",
      "source": [
        "A = ApiHandler(\"Alameda County\", \"CA\")\n",
        "\n",
        "countyInfo = A.query()\n",
        "print(countyInfo)"
      ],
      "metadata": {
        "id": "_wxz0P0LW7xX"
      },
      "execution_count": null,
      "outputs": []
    },
    {
      "cell_type": "code",
      "source": [
        "def Threshold():\n",
        "\n",
        "    test_positivity_threshold = 0.05\n",
        "    case_density_threshold = 25\n",
        "    infection_rate_threshold = 1\n",
        "    overall_threshold = 1\n",
        "    \n",
        "    for a,b in countyInfo.items():\n",
        "        if a == 'metrics':\n",
        "            for c,d in b.items():\n",
        "                if c == 'testPositivityRatio':\n",
        "                    if d >= test_positivity_threshold:\n",
        "                        test_positivity = False\n",
        "                        test_positivity_num = d\n",
        "                        print('TEST POSITIVITY TEST: FAILED')\n",
        "                    else:\n",
        "                        test_positivity = True\n",
        "                        test_positivity_num = d\n",
        "                        print('TEST POSITIVITY TEST: PASSED')\n",
        "                if c == 'caseDensity':\n",
        "                    if  d >= case_density_threshold:\n",
        "                        case_density = False\n",
        "                        case_density_num = d\n",
        "                        print('CASE DENSITY TEST: FAILED')\n",
        "                    else:\n",
        "                        case_density = True\n",
        "                        case_density_num = d\n",
        "                        print('CASE DENSITY TEST: PASSED')\n",
        "                if c == 'infectionRate':\n",
        "                    if d >= infection_rate_threshold :\n",
        "                        infection_rate = False\n",
        "                        infection_rate_num = d\n",
        "                        print('INFECTION RATE TEST: FAILED')\n",
        "                    else:\n",
        "                        infection_rate = True\n",
        "                        infection_rate_num = d\n",
        "                        print('INFECTION RATE TEST: PASSED')\n",
        "        if a == 'riskLevels':\n",
        "            for t,u in b.items():\n",
        "                if t == 'overall':\n",
        "                    if u > overall_threshold:\n",
        "                        overall = False\n",
        "                        overall_num = u\n",
        "                        print('OVERALL TEST: FAILED')\n",
        "                    else:\n",
        "                        overall = True\n",
        "                        overall_num = u\n",
        "                        print('OVERALL TEST: TRUE')\n",
        "\n",
        "Threshold()"
      ],
      "metadata": {
        "id": "i0WowRzhXCz9"
      },
      "execution_count": null,
      "outputs": []
    },
    {
      "cell_type": "code",
      "source": [
        "def Reccomendation():\n",
        "    if test_positivity == False or case_density == False or infection_rate == False or overall == False:\n",
        "        print('Based on your county infection data, gatherings are not reccomended.')\n",
        "    else:\n",
        "        print('Covid exposure in your region appears to not be so high. When you meet for your event, please ensure you follow cdc guidelines.')\n",
        "        print('https://www.cdc.gov/coronavirus/2019-ncov/index.html')\n",
        "Reccomendation()"
      ],
      "metadata": {
        "id": "NvCr2TMkXNn3"
      },
      "execution_count": null,
      "outputs": []
    },
    {
      "cell_type": "code",
      "source": [
        "fig = plt.figure(figsize = (10, 5))\n",
        "plt.bar('Threshold', test_positivity_threshold, color ='green',\n",
        "        width = 0.5)\n",
        "plt.bar('Result', test_positivity_num, color ='red',\n",
        "        width = 0.5)\n",
        "plt.title(\"Threshold Versus Data: Test Positive\")\n",
        "plt.show()"
      ],
      "metadata": {
        "id": "KZj9KKVXXcf8"
      },
      "execution_count": null,
      "outputs": []
    },
    {
      "cell_type": "code",
      "source": [
        "fig = plt.figure(figsize = (10, 5))\n",
        "plt.bar('Threshold', case_density_threshold, color ='green',\n",
        "        width = 0.5)\n",
        "plt.bar('Result', case_density_num, color ='red',\n",
        "        width = 0.5)\n",
        "plt.title(\"Threshold Versus Data: Case Density\")\n",
        "plt.show()"
      ],
      "metadata": {
        "id": "UFwJa9HmXsGT"
      },
      "execution_count": null,
      "outputs": []
    },
    {
      "cell_type": "code",
      "source": [
        "fig = plt.figure(figsize = (10, 5))\n",
        "plt.bar('Threshold', infection_rate_threshold, color ='green',\n",
        "        width = 0.5)\n",
        "plt.bar('Result', infection_rate_num, color ='red',\n",
        "        width = 0.5)\n",
        "plt.title(\"Threshold Versus Data: Case Density\")\n",
        "plt.show()"
      ],
      "metadata": {
        "id": "brcub5WYX2Dh"
      },
      "execution_count": null,
      "outputs": []
    },
    {
      "cell_type": "code",
      "source": [
        "fig = plt.figure(figsize = (10, 5))\n",
        "plt.bar('Threshold', overall_threshold, color ='green',\n",
        "        width = 0.5)\n",
        "plt.bar('Result', overall_num, color ='red',\n",
        "        width = 0.5)\n",
        "plt.title(\"Threshold Versus Data: Case Density\")\n",
        "plt.show()"
      ],
      "metadata": {
        "id": "Rn6fB5fHX7Tk"
      },
      "execution_count": null,
      "outputs": []
    }
  ]
}