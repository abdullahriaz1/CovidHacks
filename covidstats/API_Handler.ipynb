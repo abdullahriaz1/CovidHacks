{
  "nbformat": 4,
  "nbformat_minor": 0,
  "metadata": {
    "colab": {
      "name": "API_Handler.ipynb",
      "provenance": []
    },
    "kernelspec": {
      "name": "python3",
      "display_name": "Python 3"
    },
    "language_info": {
      "name": "python"
    }
  },
  "cells": [
    {
      "cell_type": "code",
      "execution_count": null,
      "metadata": {
        "id": "pFnBI-0gVLtK"
      },
      "outputs": [],
      "source": [
        "#UPDATED API HANDLER\n",
        "import requests\n",
        "import json\n",
        "\n",
        "class ApiHandler():\n",
        "    def __init__(self, county, state):\n",
        "        self.county = county\n",
        "        self.state = state\n",
        "        self.query()\n",
        "\n",
        "    def query(self):\n",
        "        # request\n",
        "        response = requests.get(\n",
        "            \"https://api.covidactnow.org/v2/county/CA.json?apiKey=58a4b8f2e990466c9afb985f6d757f79\")\n",
        "        covid_data = response.json()\n",
        "        host_county = (list(\n",
        "            filter(lambda item: item['county'] == self.county, covid_data)))\n",
        "        county_info = {}\n",
        "        for i in host_county:\n",
        "            for j, k in i.items():\n",
        "                if j == 'county' or j == 'population' or j == 'riskLevels' or j == 'metrics' or j == 'cdcTransmissionLevel':\n",
        "                    county_info[j] = k\n",
        "        return county_info"
      ]
    },
    {
      "cell_type": "code",
      "source": [
        ""
      ],
      "metadata": {
        "id": "925PgJcwVXI3"
      },
      "execution_count": null,
      "outputs": []
    }
  ]
}