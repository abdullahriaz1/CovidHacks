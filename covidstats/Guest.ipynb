{
  "nbformat": 4,
  "nbformat_minor": 0,
  "metadata": {
    "colab": {
      "name": "Guest.ipynb",
      "provenance": [],
      "collapsed_sections": []
    },
    "kernelspec": {
      "name": "python3",
      "display_name": "Python 3"
    },
    "language_info": {
      "name": "python"
    }
  },
  "cells": [
    {
      "cell_type": "code",
      "execution_count": null,
      "metadata": {
        "id": "-R1rbdq9jYbT",
        "colab": {
          "base_uri": "https://localhost:8080/"
        },
        "outputId": "623019e9-1aaa-493a-b63f-5daff6bfe7c8"
      },
      "outputs": [
        {
          "output_type": "stream",
          "name": "stderr",
          "text": [
            "ERROR:root:File `'Guest_Source.ipynb.py'` not found.\n"
          ]
        }
      ],
      "source": [
        "%run 'Guest_Source'.ipynb"
      ]
    },
    {
      "cell_type": "markdown",
      "source": [
        "#General Information"
      ],
      "metadata": {
        "id": "BxJnI2-Uj75Z"
      }
    },
    {
      "cell_type": "code",
      "source": [
        "name = input(\"Enter name: \")\n",
        "name"
      ],
      "metadata": {
        "id": "xEkRjQpqkAGk"
      },
      "execution_count": null,
      "outputs": []
    },
    {
      "cell_type": "code",
      "source": [
        "phone_number = input(\"Enter phone number: \")\n",
        "phone_number"
      ],
      "metadata": {
        "id": "QKYsuvMJkGJb"
      },
      "execution_count": null,
      "outputs": []
    },
    {
      "cell_type": "code",
      "source": [
        "email = input(\"Enter your email: \")\n",
        "email"
      ],
      "metadata": {
        "id": "g_IGWSakkP9D"
      },
      "execution_count": null,
      "outputs": []
    },
    {
      "cell_type": "markdown",
      "source": [
        "#Vaccine Information"
      ],
      "metadata": {
        "id": "pHunKasukW9M"
      }
    },
    {
      "cell_type": "code",
      "source": [
        "vax_info.Vaccination_Widget_Box"
      ],
      "metadata": {
        "id": "uDg87ctgkfbg",
        "colab": {
          "base_uri": "https://localhost:8080/",
          "height": 166
        },
        "outputId": "cde7b10a-eaf9-4e0e-fef5-19b106533dd7"
      },
      "execution_count": null,
      "outputs": [
        {
          "output_type": "error",
          "ename": "NameError",
          "evalue": "ignored",
          "traceback": [
            "\u001b[0;31m---------------------------------------------------------------------------\u001b[0m",
            "\u001b[0;31mNameError\u001b[0m                                 Traceback (most recent call last)",
            "\u001b[0;32m<ipython-input-1-931ecbefc4d9>\u001b[0m in \u001b[0;36m<module>\u001b[0;34m()\u001b[0m\n\u001b[0;32m----> 1\u001b[0;31m \u001b[0mvax_info\u001b[0m\u001b[0;34m.\u001b[0m\u001b[0mVaccination_Widget_Box\u001b[0m\u001b[0;34m\u001b[0m\u001b[0;34m\u001b[0m\u001b[0m\n\u001b[0m",
            "\u001b[0;31mNameError\u001b[0m: name 'vax_info' is not defined"
          ]
        }
      ]
    },
    {
      "cell_type": "code",
      "source": [
        "am_vaccinated.Vaccination_Widget_Box"
      ],
      "metadata": {
        "id": "b99yz-7oklPE"
      },
      "execution_count": null,
      "outputs": []
    },
    {
      "cell_type": "markdown",
      "source": [
        "# Testing Information"
      ],
      "metadata": {
        "id": "PfwAPumNks7V"
      }
    },
    {
      "cell_type": "code",
      "source": [
        "test.Vaccination_Widget_Box"
      ],
      "metadata": {
        "id": "fm_5vmOkkzY1"
      },
      "execution_count": null,
      "outputs": []
    }
  ]
}